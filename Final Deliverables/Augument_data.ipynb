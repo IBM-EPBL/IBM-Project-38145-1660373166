{
  "nbformat": 4,
  "nbformat_minor": 0,
  "metadata": {
    "colab": {
      "provenance": []
    },
    "kernelspec": {
      "name": "python3",
      "display_name": "Python 3"
    },
    "language_info": {
      "name": "python"
    }
  },
  "cells": [
    {
      "cell_type": "code",
      "source": [
        "from keras.preprocessing.image import ImageDataGenerator\n",
        "import cv2\n",
        "from os import listdir\n",
        "import time    \n",
        "\n",
        "def hms_string(sec_elapsed):\n",
        "    h = int(sec_elapsed / (60 * 60))\n",
        "    m = int((sec_elapsed % (60 * 60)) / 60)\n",
        "    s = sec_elapsed % 60\n",
        "    return f\"{h}:{m}:{round(s,1)}\"\n",
        "\n",
        "def augment_data(file_dir, n_generated_samples, save_to_dir):\n",
        "    data_gen = ImageDataGenerator(rotation_range=30, \n",
        "                                  width_shift_range=0.1,\n",
        "                                  height_shift_range=0.15, \n",
        "                                  shear_range=0.25, \n",
        "                                  zoom_range = 0.2,\n",
        "                                  horizontal_flip=True, \n",
        "                                  vertical_flip=False, \n",
        "                                  fill_mode='nearest',\n",
        "                                  brightness_range=(0.5,1.2)\n",
        "                                 )\n",
        "\n",
        "    \n",
        "    for filename in listdir(file_dir):\n",
        "        image = cv2.imread(file_dir + '/' + filename)\n",
        "        image = image.reshape((1,)+image.shape)\n",
        "        save_prefix = 'aug_' + filename[:-4]    \n",
        "        i=0\n",
        "        for batch in data_gen.flow(x=image, batch_size=1, save_to_dir=save_to_dir,\n",
        "                                   save_prefix=save_prefix, save_format='jpg'):\n",
        "            i += 1\n",
        "            if i > n_generated_samples:\n",
        "                break\n",
        "            \n",
        "start_time = time.time()\n",
        "\n",
        "augmented_data_path = '/content/drive/MyDrive/Project/Final Deliverables/Augumented Dataset'\n",
        "augment_data(file_dir='/content/drive/MyDrive/Project/Final Deliverables/Digital Naturalist/Bird/Great Indian Bustard Bird', n_generated_samples=8, save_to_dir=augmented_data_path+'/Bird/GIB_AUG')\n",
        "augment_data(file_dir='/content/drive/MyDrive/Project/Final Deliverables/Digital Naturalist/Bird/Spoon Billed Sandpiper Bird', n_generated_samples=8, save_to_dir=augmented_data_path+'/Bird/SPS_AUG')\n",
        "augment_data(file_dir='/content/drive/MyDrive/Project/Final Deliverables/Digital Naturalist/Flower/Corpse Flower', n_generated_samples=8, save_to_dir=augmented_data_path+'/Flower/Corpse_AUG')\n",
        "augment_data(file_dir='/content/drive/MyDrive/Project/Final Deliverables/Digital Naturalist/Flower/Lady Slipper Orchid Flower', n_generated_samples=8, save_to_dir=augmented_data_path+'/Flower/LS_Orchid_AUG')\n",
        "augment_data(file_dir='/content/drive/MyDrive/Project/Final Deliverables/Digital Naturalist/Mammal/Pangolin Mammal', n_generated_samples=8, save_to_dir=augmented_data_path+'/Mammal/LS_Pangolin_AUG')\n",
        "augment_data(file_dir='/content/drive/MyDrive/Project/Final Deliverables/Digital Naturalist/Mammal/Senenca White Deer Mammal', n_generated_samples=8, save_to_dir=augmented_data_path+'/Mammal/SW_Deer_AUG')\n",
        "\n",
        "\n",
        "end_time = time.time()\n",
        "execution_time = (end_time - start_time)\n",
        "print(\"Elapsed Time : \"+str(execution_time))"
      ],
      "metadata": {
        "colab": {
          "base_uri": "https://localhost:8080/"
        },
        "id": "mC9sZnayGUZ3",
        "outputId": "0131b2dd-6cb6-46e9-c1bd-06e48f54380c"
      },
      "execution_count": 1,
      "outputs": [
        {
          "output_type": "stream",
          "name": "stdout",
          "text": [
            "Elapsed Time : 113.34439158439636\n"
          ]
        }
      ]
    }
  ]
}